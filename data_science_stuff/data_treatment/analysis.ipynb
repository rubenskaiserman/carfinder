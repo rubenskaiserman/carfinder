{
 "cells": [
  {
   "cell_type": "code",
   "execution_count": 9,
   "metadata": {},
   "outputs": [],
   "source": [
    "import pandas as pd\n",
    "import psycopg\n",
    "\n",
    "pd.set_option('display.max_columns', None)\n",
    "\n",
    "with psycopg.connect(\"dbname=car_search user=randomname password=kejiyol\") as conn:\n",
    "    result = pd.read_sql(\"SELECT * FROM cars;\", conn)\n",
    "    display(result)\n"
   ]
  },
  {
   "cell_type": "code",
   "execution_count": 41,
   "metadata": {},
   "outputs": [],
   "source": [
    "with psycopg.connect(\"dbname=car_search user=randomname password=kejiyol\") as conn:\n",
    "    with conn.cursor() as cur:\n",
    "        deletion_row = ['gear_box','length','width','height', 'weight', 'wheel_base', 'front_suspension', 'rear_suspension', 'front_brakers', 'rear_brakers', 'front_tires', 'rear_tires', 'fuel_urban', 'fuel_extra_urban', 'fuel_combined', 'fuel_volume']\n",
    "        for field in deletion_row:\n",
    "            cur.execute(f\"UPDATE all_cars SET {field}=NULL WHERE {field} LIKE '%n/d%'\")"
   ]
  },
  {
   "cell_type": "code",
   "execution_count": 39,
   "metadata": {},
   "outputs": [
    {
     "name": "stderr",
     "output_type": "stream",
     "text": [
      "/home/kaiserman/dev/car_search/data_science_stuff/lib/python3.9/site-packages/pandas/io/sql.py:761: UserWarning: pandas only support SQLAlchemy connectable(engine/connection) ordatabase string URI or sqlite3 DBAPI2 connectionother DBAPI2 objects are not tested, please consider using SQLAlchemy\n",
      "  warnings.warn(\n"
     ]
    }
   ],
   "source": [
    "with psycopg.connect(\"dbname=car_search user=kaiserman password=kejiyol\") as conn:\n",
    "    with conn.cursor() as cur:\n",
    "        df = pd.read_sql(\"SELECT * FROM cars;\", conn)\n",
    "        # print(df.columns)\n",
    "        # i = 0\n",
    "        # display(pd.read_sql(\"SELECT marca, modelo, mod, COUNT(mod) FROM cars GROUP BY mod;\", conn))\n",
    "        # for column in df.columns:\n",
    "            # result = pd.read_sql(f\"SELECT DISTINCT {column} FROM cars;\", conn)\n",
    "            # display(result)"
   ]
  },
  {
   "cell_type": "code",
   "execution_count": null,
   "metadata": {},
   "outputs": [],
   "source": []
  }
 ],
 "metadata": {
  "interpreter": {
   "hash": "38a67dce8eb5a6a512e4168e4c9a2e998654a4b81091debf1fe1ecd2d7c1bb6f"
  },
  "kernelspec": {
   "display_name": "Python 3.9.7 ('data_science_stuff': venv)",
   "language": "python",
   "name": "python3"
  },
  "language_info": {
   "codemirror_mode": {
    "name": "ipython",
    "version": 3
   },
   "file_extension": ".py",
   "mimetype": "text/x-python",
   "name": "python",
   "nbconvert_exporter": "python",
   "pygments_lexer": "ipython3",
   "version": "3.9.7"
  },
  "orig_nbformat": 4
 },
 "nbformat": 4,
 "nbformat_minor": 2
}
